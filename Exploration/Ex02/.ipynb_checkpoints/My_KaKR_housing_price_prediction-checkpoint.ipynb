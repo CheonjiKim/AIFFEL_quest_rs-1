{
 "cells": [
  {
   "cell_type": "code",
   "execution_count": null,
   "id": "590679e7-01df-472e-85d4-ce95eb78f450",
   "metadata": {},
   "outputs": [],
   "source": [
    "# 관련 라이브러리 import\n",
    "import os\n",
    "from os.path import join\n",
    "import pandas as pd\n",
    "import numpy as np\n",
    "import matplotlib.pyplot as plt\n",
    "import seaborn as sns"
   ]
  },
  {
   "cell_type": "code",
   "execution_count": null,
   "id": "0a7e2cdf-9ac3-45b6-b722-1d8d0453e645",
   "metadata": {},
   "outputs": [],
   "source": [
    "# 데이터 가져오기\n",
    "data_dir = os.getenv('HOME')+'/aiffel/kaggle_kakr_housing/data'\n",
    "\n",
    "train_data_path = join(data_dir, 'train.csv')\n",
    "test_data_path = join(data_dir, 'test.csv')\n",
    "\n",
    "train = pd.read_csv(train_data_path)\n",
    "test = pd.read_csv(test_data_path)\n",
    "\n",
    "print(train.shape, test.shape)"
   ]
  },
  {
   "cell_type": "code",
   "execution_count": null,
   "id": "a75e76a7-fd16-4a36-8af2-c3d89a4f18ee",
   "metadata": {},
   "outputs": [],
   "source": [
    "# 훈련 데이터 살펴보기\n",
    "train.head()"
   ]
  },
  {
   "cell_type": "code",
   "execution_count": null,
   "id": "0f4833a7-7bc0-44af-9926-c1cad7dca1b1",
   "metadata": {},
   "outputs": [],
   "source": [
    "# 결측치의 유무를 확인한다.\n",
    "train.isnull().sum()"
   ]
  },
  {
   "cell_type": "code",
   "execution_count": null,
   "id": "a3944a02-4a7c-47b8-ade7-34642cac7974",
   "metadata": {},
   "outputs": [],
   "source": [
    "# train 데이터의 date 칼럼에서 년도와 날짜만 추출한다.\n",
    "train['date'] = train['date'].apply(lambda i: i[:6]).astype(int)\n",
    "train.head()"
   ]
  },
  {
   "cell_type": "code",
   "execution_count": null,
   "id": "71e69615-34a5-416b-8b98-3d1dc4e244d7",
   "metadata": {},
   "outputs": [],
   "source": [
    "# 타겟 칼럼인 price를 y에 담는다.\n",
    "y = train['price']\n",
    "del train['price'] # train에 있던 price 칼럼은 삭제한다.\n",
    "\n",
    "print(train.columns)"
   ]
  },
  {
   "cell_type": "code",
   "execution_count": null,
   "id": "a322bf09-7d2d-486b-96c0-d3177a03fe26",
   "metadata": {},
   "outputs": [],
   "source": [
    "# 불필요한 id 칼럼은 제거한다.\n",
    "del train['id']\n",
    "\n",
    "print(train.columns)"
   ]
  },
  {
   "cell_type": "code",
   "execution_count": null,
   "id": "de4c9a9b-00ba-4d1c-8722-06ea9e8241bd",
   "metadata": {},
   "outputs": [],
   "source": [
    "# 위 과정을 test 데이터에도 적용한다.\n",
    "test['date'] = test['date'].apply(lambda i: i[:6]).astype(int)\n",
    "del test['id']\n",
    "test.head()\n",
    "print(test.columns)"
   ]
  },
  {
   "cell_type": "markdown",
   "id": "43a8d5a6-b4e2-4d5e-96d0-81b8ea9cb675",
   "metadata": {},
   "source": [
    "## 데이터 시각화  \n",
    "1. 각각의 데이터를 살펴보자.\n",
    "2. y값을 로그변환하여 정규 분포 모양을 갖도록 하자."
   ]
  },
  {
   "cell_type": "code",
   "execution_count": null,
   "id": "93ee7f76-c137-4383-add4-3b3d861da187",
   "metadata": {},
   "outputs": [],
   "source": [
    "# train 데이터의 각 특성별 분포 살펴보기\n",
    "plt.figure(figsize=(20, 40))\n",
    "\n",
    "columns = train.columns\n",
    "for i in range(len(columns)):\n",
    "    plt.subplot(6, 4, i+1)\n",
    "    sns.histplot(train[columns[i]], kde=True)\n",
    "    plt.title(columns[i])"
   ]
  },
  {
   "cell_type": "code",
   "execution_count": null,
   "id": "281d79b4-2d61-42cc-bb2c-48464ff6491e",
   "metadata": {},
   "outputs": [],
   "source": [
    "# y 값 살펴보기\n",
    "y"
   ]
  },
  {
   "cell_type": "code",
   "execution_count": null,
   "id": "5b71253c-c70b-4cd0-8bc5-76e0572d7721",
   "metadata": {},
   "outputs": [],
   "source": [
    "# 데이터의 특성 별 상관관계 살펴보기\n",
    "corr = pd.concat([train, y],axis=1).corr() # 각 특성과 price를 살펴보자.\n",
    "plt.figure(figsize=(20, 20))\n",
    "sns.heatmap(corr, annot=True)"
   ]
  },
  {
   "cell_type": "code",
   "execution_count": null,
   "id": "322caf37-20e6-41d9-ab6a-7749d09f9d0f",
   "metadata": {},
   "outputs": [],
   "source": [
    "# y값 분포 살펴보기\n",
    "sns.histplot(y, kde=True)"
   ]
  },
  {
   "cell_type": "code",
   "execution_count": null,
   "id": "9b6803f3-97d5-447e-afa9-ac65a8406d16",
   "metadata": {},
   "outputs": [],
   "source": [
    "# log 변환을 통해 정규분포 모양을 갖도록 한다.\n",
    "y = np.log1p(y)\n",
    "y # y에 로그변환을 해주었기 때문에, 모델 학습 후 예측 시 exp변환을 해주어야 한다."
   ]
  },
  {
   "cell_type": "code",
   "execution_count": null,
   "id": "e37cbb6b-6984-4127-bacb-00b0813b9f88",
   "metadata": {},
   "outputs": [],
   "source": [
    "# log 변환 후의 y값 분포 살펴보기\n",
    "sns.kdeplot(y)\n",
    "sns.histplot(y, kde=True)"
   ]
  },
  {
   "cell_type": "code",
   "execution_count": null,
   "id": "8c6566b4-11c3-429b-b6cd-1bd01fc5e739",
   "metadata": {},
   "outputs": [],
   "source": [
    "train.info()"
   ]
  },
  {
   "cell_type": "markdown",
   "id": "7f7161ad-db81-442a-a20f-738ff96f2efd",
   "metadata": {},
   "source": [
    "## 경도, 위도, zipcode 분석하기  \n",
    "loss를 줄이기 위해서는 'lat', 'long', 'zipcode' 이 세 특성을 통해서 새로운 특성을 만들어야할 필요가 있다."
   ]
  },
  {
   "cell_type": "code",
   "execution_count": null,
   "id": "152f87c7-da4c-4461-ad47-3b23c22384b6",
   "metadata": {},
   "outputs": [],
   "source": [
    "train_loc_price = pd.concat([train[['lat', 'long', 'zipcode']], y], axis=1) # lat, long, zipcode, y값만 추출한다.\n",
    "train_loc_price\n",
    "\n",
    "\n",
    "plt.figure(figsize=(20, 50))\n",
    "plt.subplot(2, 1, 1)\n",
    "sns.scatterplot(data=train_loc_price, x='long', y='lat', hue='price') # 경도, 위도별 집값\n",
    "plt.subplot(2, 1, 2)\n",
    "sns.scatterplot(data=train_loc_price, x='long', y='lat', hue='zipcode') # 경도, 위도별 우편번호"
   ]
  },
  {
   "cell_type": "code",
   "execution_count": null,
   "id": "19940f22-0644-4ecc-a843-24a66376a365",
   "metadata": {},
   "outputs": [],
   "source": [
    "# get correlations of loc_price and plot heatmap\n",
    "corr = train_loc_price.corr()\n",
    "plt.figure(figsize=(10, 10))\n",
    "sns.heatmap(corr, annot=True)"
   ]
  },
  {
   "cell_type": "markdown",
   "id": "5e8337e2-4b3a-4792-9eb3-873bfa023cae",
   "metadata": {},
   "source": [
    "## 도시 정보 추가하기\n",
    "이 부분이 loss를 줄이는 데 나름 큰 기여를 했다."
   ]
  },
  {
   "cell_type": "code",
   "execution_count": null,
   "id": "e33e7495-69f3-41b6-a92c-4d1d2cef22a7",
   "metadata": {},
   "outputs": [],
   "source": [
    "# zipcode 칼럼의 값은, 미국 WA 주의 King County지역의 zipcode임을 확인할 수 있었다.\n",
    "# zipcode 값을 해당 도시 이름으로 매핑한다.\n",
    "def zipcode_to_city(zipcode):\n",
    "    # 우편번호별 지역 이름\n",
    "    matcher = {98001: 'Auburn',\n",
    "    98002: 'Auburn',\n",
    "    98003: 'Federal Way',\n",
    "    98004: 'Bellevue',\n",
    "    98005: 'Bellevue',\n",
    "    98006: 'Bellevue',\n",
    "    98007: 'Bellevue',\n",
    "    98008: 'Bellevue',\n",
    "    98010: 'Black Diamond',\n",
    "    98011: 'Bothell',\n",
    "    98014: 'Carnation',\n",
    "    98019: 'Duvall',\n",
    "    98022: 'Enumclaw',\n",
    "    98023: 'Federal Way',\n",
    "    98024: 'Fall City',\n",
    "    98027: 'Issaquah',\n",
    "    98028: 'Kenmore',\n",
    "    98029: 'Issaquah',\n",
    "    98030: 'Kent',\n",
    "    98031: 'Kent',\n",
    "    98032: 'Kent',\n",
    "    98033: 'Kirkland',\n",
    "    98034: 'Kirkland',\n",
    "    98038: 'Maple Valley',\n",
    "    98039: 'Medina',\n",
    "    98040: 'Mercer Island',\n",
    "    98042: 'Kent',\n",
    "    98045: 'North Bend',\n",
    "    98052: 'Redmond',\n",
    "    98053: 'Redmond',\n",
    "    98055: 'Renton',\n",
    "    98056: 'Renton',\n",
    "    98058: 'Renton',\n",
    "    98059: 'Renton',\n",
    "    98065: 'Snoqualmie',\n",
    "    98070: 'Vashon',\n",
    "    98072: 'Woodinville',\n",
    "    98074: 'Sammamish',\n",
    "    98075: 'Sammamish',\n",
    "    98077: 'Woodinville',\n",
    "    98092: 'Auburn',\n",
    "    98102: 'Seattle',\n",
    "    98103: 'Seattle',\n",
    "    98105: 'Seattle',\n",
    "    98106: 'Seattle',\n",
    "    98107: 'Seattle',\n",
    "    98108: 'Seattle',\n",
    "    98109: 'Seattle',\n",
    "    98112: 'Seattle',\n",
    "    98115: 'Seattle',\n",
    "    98116: 'Seattle',\n",
    "    98117: 'Seattle',\n",
    "    98118: 'Seattle',\n",
    "    98119: 'Seattle',\n",
    "    98122: 'Seattle',\n",
    "    98125: 'Seattle',\n",
    "    98126: 'Seattle',\n",
    "    98133: 'Seattle',\n",
    "    98136: 'Seattle',\n",
    "    98144: 'Seattle',\n",
    "    98146: 'Seattle',\n",
    "    98148: 'Seattle',\n",
    "    98155: 'Seattle',\n",
    "    98166: 'Seattle',\n",
    "    98168: 'Seattle',\n",
    "    98177: 'Seattle',\n",
    "    98178: 'Seattle',\n",
    "    98188: 'Seattle',\n",
    "    98198: 'Seattle',\n",
    "    98199: 'Seattle'\n",
    "    }\n",
    "    return matcher[zipcode]"
   ]
  },
  {
   "cell_type": "code",
   "execution_count": null,
   "id": "3ccc8e0e-71b3-4de3-8bf0-7524494554b8",
   "metadata": {},
   "outputs": [],
   "source": [
    "# train 데이터에 도시 칼럼을 추가한다.\n",
    "train['city'] = train['zipcode'].map(zipcode_to_city)\n",
    "train"
   ]
  },
  {
   "cell_type": "code",
   "execution_count": null,
   "id": "6496685c-3119-418e-a649-534d43625294",
   "metadata": {},
   "outputs": [],
   "source": [
    "# 동일하게 test 데이터에도 도시 칼럼을 추가한다.\n",
    "test['city'] = test['zipcode'].map(zipcode_to_city)\n",
    "test"
   ]
  },
  {
   "cell_type": "code",
   "execution_count": null,
   "id": "e30b57dd-e826-4cdb-a51b-f21d79db75a3",
   "metadata": {},
   "outputs": [],
   "source": [
    "# 도시 이름은 string이기 때문에 tree 기반 모델의 원활한 학습을 위해서 카테고리화를 할 필요가 있다.\n",
    "# 먼저 string을 int로 label한다. 다음으로 int를 categorical로 바꾼다.\n",
    "\n",
    "# string을 int로 label한다.\n",
    "from sklearn.preprocessing import LabelEncoder\n",
    "le = LabelEncoder()\n",
    "train_city_labeled = le.fit_transform(train['city'])\n",
    "test_city_labeled = le.transform(test['city'])\n",
    "\n",
    "# int label 적용하기\n",
    "train['city'] = train_city_labeled\n",
    "test['city'] = test_city_labeled"
   ]
  },
  {
   "cell_type": "code",
   "execution_count": null,
   "id": "11f324fe-1d9b-47df-ba19-d09aac5622ad",
   "metadata": {},
   "outputs": [],
   "source": [
    "# int를 categorical로 바꾼다.\n",
    "train['city'] = train['city'].astype('category')\n",
    "test['city'] = test['city'].astype('category')\n",
    "\n",
    "# city가 카테고리가 된 것을 확인하기\n",
    "train.info()"
   ]
  },
  {
   "cell_type": "code",
   "execution_count": null,
   "id": "9804f36e-f44d-4d56-9c0c-ced64883d014",
   "metadata": {},
   "outputs": [],
   "source": [
    "# zipcode에서 city 데이터를 얻어내었기 때문에 할 일을 다한 zipcode는 이제 삭제\n",
    "del train['zipcode']\n",
    "del test['zipcode']"
   ]
  },
  {
   "cell_type": "code",
   "execution_count": null,
   "id": "499d05a6-06ea-44f6-a4b6-1cf819f07574",
   "metadata": {},
   "outputs": [],
   "source": [
    "# city별 집값의 추세 평균\n",
    "\n",
    "t_p = pd.concat([train[['city']], y], axis=1)\n",
    "t_p.groupby('city').mean()\n",
    "sns.barplot(data=t_p.groupby('city').mean(), x=t_p.groupby('city').mean().index, y='price')"
   ]
  },
  {
   "cell_type": "markdown",
   "id": "f15fabd1-6386-4f35-84b8-135e7395dcd6",
   "metadata": {},
   "source": [
    "## 모델 튜닝하기   \n",
    "```\n",
    "\n",
    "### 3. 앙상블 기법 적용\n",
    "\n",
    "여기서는 `RandomForestRegressor`, `GradientBoostingRegressor`를 사용하고, 이를 `StackingRegressor`를 통해 앙상블합니다.\n",
    "\n",
    "```"
   ]
  },
  {
   "cell_type": "code",
   "execution_count": null,
   "id": "d04cacd1-4c95-4bc5-97ed-7b1f930498a8",
   "metadata": {},
   "outputs": [],
   "source": [
    "# 필요한 라이브러리 불러오기\n",
    "from sklearn.model_selection import train_test_split, GridSearchCV\n",
    "from sklearn.metrics import mean_squared_error\n",
    "from sklearn.ensemble import RandomForestRegressor, GradientBoostingRegressor, StackingRegressor\n",
    "\n",
    "# 랜덤 상태 설정\n",
    "random_state=2020 \n",
    "\n",
    "\n",
    "# RMSE 매트릭 함수\n",
    "def rmse(y_test, y_pred):\n",
    "    # 레이블인 y에 log변환을 해주었기 때문에, exp변환을 통해 본래 값으로 되돌려 놓는다.\n",
    "    return np.sqrt(mean_squared_error(np.expm1(y_test), np.expm1(y_pred)))\n",
    "\n",
    "# 개별 모델 정의\n",
    "rf = RandomForestRegressor(random_state=random_state)\n",
    "gbrt = GradientBoostingRegressor(random_state=random_state)\n",
    "# 스태킹을 위한 최종 예측기 (여기서는 단순 평균을 사용)\n",
    "estimators = [('rf', rf), ('gbrt', gbrt)]\n",
    "final_estimator = RandomForestRegressor(n_estimators=10, random_state=42)\n",
    "\n",
    "# 스태킹 모델 정의\n",
    "stacking_regressor = StackingRegressor(\n",
    "    estimators=estimators,\n",
    "    final_estimator=final_estimator,\n",
    "    cv=5\n",
    ")\n",
    "# 모델 훈련\n",
    "stacking_regressor.fit(train, y)\n",
    "\n",
    "# 예측 및 평가\n",
    "y_pred = stacking_regressor.predict(X_train_preprocessed)\n",
    "mse = mean_squared_error(y_train, y_pred)\n",
    "rmse = np.sqrt(mse)\n",
    "\n",
    "print(f\"Root Mean Squared Error: {rmse:.2f}\")"
   ]
  },
  {
   "cell_type": "code",
   "execution_count": null,
   "id": "e2d1b54f-c31d-4c92-9d91-72f7b4480c3b",
   "metadata": {},
   "outputs": [],
   "source": [
    "def save_submission(model, train, y, test, model_name, rmsle):\n",
    "    \"\"\"\n",
    "    아래의 과정을 수행하는 `save_submission(model, train, y, test, model_name, rmsle)` 함수를 구현해 주세요.\n",
    "    1. 모델을 `train`, `y`로 학습시킵니다.\n",
    "    2. `test`에 대해 예측합니다.\n",
    "    3. 예측값을 `np.expm1`으로 변환하고, `submission_model_name_RMSLE_100000.csv` 형태의 `csv` 파일을 저장합니다.\n",
    "    \"\"\"\n",
    "    model.fit(train, y) # 모델 fitting(학습)\n",
    "    y_pred = np.expm1(model.predict(test)) # 전처리 과정에서 y에 log변환을 했던 것을 기억하라. 이를 되돌리기 위해서 모델이 예측한 값에 expm1을 취한다.\n",
    "\n",
    "    # sample_submission 파일을 불러온다.\n",
    "    submission_path = join(data_dir, 'sample_submission.csv')\n",
    "    submission = pd.read_csv(submission_path)\n",
    "    submission['price'] = y_pred\n",
    "\n",
    "    # sample_submission파일에 모델이 예측한 결과를 담아낸다. 이후 새로운 파일명으로 저장한다.\n",
    "    submission_csv_path = '{}/submission_{}_RMSLE_{}.csv'.format(data_dir, model_name, rmsle)\n",
    "    submission.to_csv(submission_csv_path, index=False)\n",
    "    print('{} saved!'.format(submission_csv_path))"
   ]
  },
  {
   "cell_type": "code",
   "execution_count": null,
   "id": "a93a9d6a-ae9d-49e6-948c-2bbdb5588042",
   "metadata": {},
   "outputs": [],
   "source": [
    "# 위 표에서 제시된 rmsle 값을 파일 명으로 담는다.\n",
    "save_submission(model, train, y, test, 'lgbm', rmsle='0.160314')"
   ]
  }
 ],
 "metadata": {
  "kernelspec": {
   "display_name": "Python 3 (ipykernel)",
   "language": "python",
   "name": "python3"
  },
  "language_info": {
   "codemirror_mode": {
    "name": "ipython",
    "version": 3
   },
   "file_extension": ".py",
   "mimetype": "text/x-python",
   "name": "python",
   "nbconvert_exporter": "python",
   "pygments_lexer": "ipython3",
   "version": "3.9.18"
  }
 },
 "nbformat": 4,
 "nbformat_minor": 5
}
