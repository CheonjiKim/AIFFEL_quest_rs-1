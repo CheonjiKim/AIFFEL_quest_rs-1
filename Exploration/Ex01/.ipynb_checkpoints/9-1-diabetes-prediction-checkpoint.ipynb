{
 "cells": [
  {
   "cell_type": "markdown",
   "id": "2854d68b-48ec-4b20-9d2d-66c22af1cc23",
   "metadata": {},
   "source": [
    "```markdown\n",
    "# 라이브러리 임포트\n",
    "\n",
    "필요한 라이브러리를 불러옵니다.\n",
    "```\n"
   ]
  },
  {
   "cell_type": "code",
   "execution_count": 21,
   "id": "bb1657c2-b70f-4576-a69c-06f13a6fe8fd",
   "metadata": {},
   "outputs": [],
   "source": [
    "import numpy as np\n",
    "import matplotlib.pyplot as plt\n",
    "from sklearn.datasets import load_diabetes\n",
    "from sklearn.model_selection import train_test_split"
   ]
  },
  {
   "cell_type": "markdown",
   "id": "386197fa-0b63-4acd-ba94-b63f4d7d7b25",
   "metadata": {},
   "source": [
    "```markdown\n",
    "# (1) 데이터 가져오기\n",
    "\n",
    "`sklearn.datasets`의 `load_diabetes`에서 데이터를 가져옵니다.\n",
    "```"
   ]
  },
  {
   "cell_type": "code",
   "execution_count": 22,
   "id": "fbc7295c-3af1-4999-abde-9de90977bf36",
   "metadata": {},
   "outputs": [],
   "source": [
    "diabetes = load_diabetes()\n",
    "df_X = diabetes.data\n",
    "df_y = diabetes.target"
   ]
  },
  {
   "cell_type": "markdown",
   "id": "0d0d22fa-38a0-4502-9965-9ac15cc81f0b",
   "metadata": {},
   "source": [
    "```markdown\n",
    "# (2) 모델에 입력할 데이터 X 준비하기\n",
    "\n",
    "`df_X`에 있는 값들을 numpy array로 변환합니다. 이미 `numpy.ndarray` 타입이므로 이 단계는 사실상 필요 없습니다.\n",
    "```"
   ]
  },
  {
   "cell_type": "code",
   "execution_count": 23,
   "id": "9e27d06a-9afd-4d83-b825-ce26ffde44cf",
   "metadata": {},
   "outputs": [
    {
     "data": {
      "text/plain": [
       "array([[ 0.03807591,  0.05068012,  0.06169621, ..., -0.00259226,\n",
       "         0.01990842, -0.01764613],\n",
       "       [-0.00188202, -0.04464164, -0.05147406, ..., -0.03949338,\n",
       "        -0.06832974, -0.09220405],\n",
       "       [ 0.08529891,  0.05068012,  0.04445121, ..., -0.00259226,\n",
       "         0.00286377, -0.02593034],\n",
       "       ...,\n",
       "       [ 0.04170844,  0.05068012, -0.01590626, ..., -0.01107952,\n",
       "        -0.04687948,  0.01549073],\n",
       "       [-0.04547248, -0.04464164,  0.03906215, ...,  0.02655962,\n",
       "         0.04452837, -0.02593034],\n",
       "       [-0.04547248, -0.04464164, -0.0730303 , ..., -0.03949338,\n",
       "        -0.00421986,  0.00306441]])"
      ]
     },
     "execution_count": 23,
     "metadata": {},
     "output_type": "execute_result"
    }
   ],
   "source": [
    "df_X = np.array(df_X)\n",
    "df_X"
   ]
  },
  {
   "cell_type": "markdown",
   "id": "77d4c95e-ce1b-4b3b-8e17-fe1ba0241c20",
   "metadata": {},
   "source": [
    "```markdown\n",
    "# (3) 모델에 예측할 데이터 y 준비하기\n",
    "\n",
    "`df_y`에 있는 값들을 numpy array로 변환합니다. 이미 `numpy.ndarray` 타입이므로 이 단계는 사실상 필요 없습니다.\n",
    "```"
   ]
  },
  {
   "cell_type": "code",
   "execution_count": 24,
   "id": "19f6bf05-2cc1-4f3e-acf6-228a85ad2f92",
   "metadata": {},
   "outputs": [
    {
     "data": {
      "text/plain": [
       "array([151.,  75., 141., 206., 135.,  97., 138.,  63., 110., 310., 101.,\n",
       "        69., 179., 185., 118., 171., 166., 144.,  97., 168.,  68.,  49.,\n",
       "        68., 245., 184., 202., 137.,  85., 131., 283., 129.,  59., 341.,\n",
       "        87.,  65., 102., 265., 276., 252.,  90., 100.,  55.,  61.,  92.,\n",
       "       259.,  53., 190., 142.,  75., 142., 155., 225.,  59., 104., 182.,\n",
       "       128.,  52.,  37., 170., 170.,  61., 144.,  52., 128.,  71., 163.,\n",
       "       150.,  97., 160., 178.,  48., 270., 202., 111.,  85.,  42., 170.,\n",
       "       200., 252., 113., 143.,  51.,  52., 210.,  65., 141.,  55., 134.,\n",
       "        42., 111.,  98., 164.,  48.,  96.,  90., 162., 150., 279.,  92.,\n",
       "        83., 128., 102., 302., 198.,  95.,  53., 134., 144., 232.,  81.,\n",
       "       104.,  59., 246., 297., 258., 229., 275., 281., 179., 200., 200.,\n",
       "       173., 180.,  84., 121., 161.,  99., 109., 115., 268., 274., 158.,\n",
       "       107.,  83., 103., 272.,  85., 280., 336., 281., 118., 317., 235.,\n",
       "        60., 174., 259., 178., 128.,  96., 126., 288.,  88., 292.,  71.,\n",
       "       197., 186.,  25.,  84.,  96., 195.,  53., 217., 172., 131., 214.,\n",
       "        59.,  70., 220., 268., 152.,  47.,  74., 295., 101., 151., 127.,\n",
       "       237., 225.,  81., 151., 107.,  64., 138., 185., 265., 101., 137.,\n",
       "       143., 141.,  79., 292., 178.,  91., 116.,  86., 122.,  72., 129.,\n",
       "       142.,  90., 158.,  39., 196., 222., 277.,  99., 196., 202., 155.,\n",
       "        77., 191.,  70.,  73.,  49.,  65., 263., 248., 296., 214., 185.,\n",
       "        78.,  93., 252., 150.,  77., 208.,  77., 108., 160.,  53., 220.,\n",
       "       154., 259.,  90., 246., 124.,  67.,  72., 257., 262., 275., 177.,\n",
       "        71.,  47., 187., 125.,  78.,  51., 258., 215., 303., 243.,  91.,\n",
       "       150., 310., 153., 346.,  63.,  89.,  50.,  39., 103., 308., 116.,\n",
       "       145.,  74.,  45., 115., 264.,  87., 202., 127., 182., 241.,  66.,\n",
       "        94., 283.,  64., 102., 200., 265.,  94., 230., 181., 156., 233.,\n",
       "        60., 219.,  80.,  68., 332., 248.,  84., 200.,  55.,  85.,  89.,\n",
       "        31., 129.,  83., 275.,  65., 198., 236., 253., 124.,  44., 172.,\n",
       "       114., 142., 109., 180., 144., 163., 147.,  97., 220., 190., 109.,\n",
       "       191., 122., 230., 242., 248., 249., 192., 131., 237.,  78., 135.,\n",
       "       244., 199., 270., 164.,  72.,  96., 306.,  91., 214.,  95., 216.,\n",
       "       263., 178., 113., 200., 139., 139.,  88., 148.,  88., 243.,  71.,\n",
       "        77., 109., 272.,  60.,  54., 221.,  90., 311., 281., 182., 321.,\n",
       "        58., 262., 206., 233., 242., 123., 167.,  63., 197.,  71., 168.,\n",
       "       140., 217., 121., 235., 245.,  40.,  52., 104., 132.,  88.,  69.,\n",
       "       219.,  72., 201., 110.,  51., 277.,  63., 118.,  69., 273., 258.,\n",
       "        43., 198., 242., 232., 175.,  93., 168., 275., 293., 281.,  72.,\n",
       "       140., 189., 181., 209., 136., 261., 113., 131., 174., 257.,  55.,\n",
       "        84.,  42., 146., 212., 233.,  91., 111., 152., 120.,  67., 310.,\n",
       "        94., 183.,  66., 173.,  72.,  49.,  64.,  48., 178., 104., 132.,\n",
       "       220.,  57.])"
      ]
     },
     "execution_count": 24,
     "metadata": {},
     "output_type": "execute_result"
    }
   ],
   "source": [
    "df_y = np.array(df_y)\n",
    "df_y"
   ]
  },
  {
   "cell_type": "markdown",
   "id": "fefbcd37-b43a-4eb6-84b6-4ee9b91c9235",
   "metadata": {},
   "source": [
    "```markdown\n",
    "# (4) train 데이터와 test 데이터로 분리하기\n",
    "\n",
    "`train_test_split` 함수를 사용하여 훈련, 테스트 세트를 8:2의 비율로 분할합니다.\n",
    "```"
   ]
  },
  {
   "cell_type": "code",
   "execution_count": 25,
   "id": "8fe85d97-b5b6-453b-b0ea-25f5fc9e5569",
   "metadata": {},
   "outputs": [],
   "source": [
    "X_train, X_test, y_train, y_test = train_test_split(df_X, df_y, test_size=0.2, random_state=42)"
   ]
  },
  {
   "cell_type": "markdown",
   "id": "93c43c77-3638-4404-afdc-7e92a9c0e598",
   "metadata": {},
   "source": [
    "```markdown\n",
    "# (5) 선형 회귀 모델 정의하기\n",
    "\n",
    "선형 회귀 모델을 정의합니다.\n",
    "```\n"
   ]
  },
  {
   "cell_type": "code",
   "execution_count": 32,
   "id": "acff9edf-9660-437e-95e5-d38886206855",
   "metadata": {},
   "outputs": [],
   "source": [
    "def model(X, W, b):\n",
    "    \"\"\"\n",
    "    선형 회귀 모델\n",
    "    :param X: 입력 데이터 (N x 10 array)\n",
    "    :param W: 가중치 벡터 (10-element array)\n",
    "    :param b: 절편 (scalar)\n",
    "    :return: 예측값 (N-element array)\n",
    "    \"\"\"\n",
    "    predictions = X.dot(W) + b\n",
    "    return predictions"
   ]
  },
  {
   "cell_type": "markdown",
   "id": "eeed89b2-fcc4-4973-9f0f-95f387bfeb5f",
   "metadata": {},
   "source": [
    "\n",
    "```markdown\n",
    "# (6) 손실함수 loss 정의하기\n",
    "\n",
    "평균 제곱 오차(MSE)를 계산하는 함수를 정의합니다.\n",
    "```"
   ]
  },
  {
   "cell_type": "code",
   "execution_count": 33,
   "id": "1a265871-5c96-4a48-91f3-6bc5a7d6154f",
   "metadata": {},
   "outputs": [],
   "source": [
    "def MSE(a, b):\n",
    "    \"\"\"\n",
    "    평균 제곱 오차를 계산하는 함수\n",
    "    :param a: 예측값 (N-element array)\n",
    "    :param b: 실제값 (N-element array)\n",
    "    :return: 평균 제곱 오차 (scalar)\n",
    "    \"\"\"\n",
    "    mse = ((a - b) ** 2).mean()\n",
    "    return mse\n",
    "\n",
    "def loss(X, W, b, y):\n",
    "    \"\"\"\n",
    "    손실 함수를 계산하는 함수\n",
    "    :param X: 입력 데이터 (N x 10 array)\n",
    "    :param W: 가중치 벡터 (10-element array)\n",
    "    :param b: 절편 (scalar)\n",
    "    :param y: 실제값 (N-element array)\n",
    "    :return: 손실 값 (scalar)\n",
    "    \"\"\"\n",
    "    predictions = model(X, W, b)\n",
    "    L = MSE(predictions, y)\n",
    "    return L"
   ]
  },
  {
   "cell_type": "markdown",
   "id": "cf2515d4-c3ce-40a0-8947-93c146dedda5",
   "metadata": {},
   "source": [
    "```markdown\n",
    "# (7) 기울기를 구하는 gradient 함수 구현하기\n",
    "\n",
    "경사 하강법을 위한 그래디언트를 계산하는 함수를 정의합니다.\n",
    "```"
   ]
  },
  {
   "cell_type": "code",
   "execution_count": 34,
   "id": "e0bbb849-6413-4752-9349-f7a3b1f4032b",
   "metadata": {},
   "outputs": [],
   "source": [
    "def gradient(X, W, b, y):\n",
    "    \"\"\"\n",
    "    경사 하강법을 위한 그래디언트를 계산하는 함수\n",
    "    :param X: 입력 데이터 (N x 10 array)\n",
    "    :param W: 가중치 벡터 (10-element array)\n",
    "    :param b: 절편 (scalar)\n",
    "    :param y: 실제값 (N-element array)\n",
    "    :return: 가중치와 절편에 대한 그래디언트 (dW, db)\n",
    "    \"\"\"\n",
    "    N = len(y)  # 데이터 포인트의 개수\n",
    "    y_pred = model(X, W, b)  # 예측값 계산\n",
    "\n",
    "    # 가중치 W에 대한 그래디언트 계산\n",
    "    dW = 1/N * X.T.dot(y_pred - y)\n",
    "    # 절편 b에 대한 그래디언트 계산\n",
    "    db = 2 * (y_pred - y).mean()\n",
    "    return dW, db\n"
   ]
  },
  {
   "cell_type": "markdown",
   "id": "6dc11761-bcf4-4bb2-abd0-723c9c36c33a",
   "metadata": {},
   "source": [
    "\n",
    "```markdown\n",
    "# (8) 하이퍼 파라미터인 학습률 설정하기\n",
    "\n",
    "학습률을 설정합니다.\n",
    "```"
   ]
  },
  {
   "cell_type": "code",
   "execution_count": 35,
   "id": "1dbeb731-a009-42d3-b64a-f2198e4f7aa6",
   "metadata": {},
   "outputs": [],
   "source": [
    "LEARNING_RATE = 0.05"
   ]
  },
  {
   "cell_type": "markdown",
   "id": "709cc1d0-c621-44e9-b22c-2489261ee92b",
   "metadata": {},
   "source": [
    "```markdown\n",
    "# (9) 모델 학습하기\n",
    "\n",
    "모델을 학습하고 손실 값을 저장합니다.\n",
    "```"
   ]
  },
  {
   "cell_type": "code",
   "execution_count": 36,
   "id": "dc97aa58-35bc-4db6-853d-4d157c151251",
   "metadata": {},
   "outputs": [
    {
     "name": "stdout",
     "output_type": "stream",
     "text": [
      "Iteration 100 : Loss 5871.3150\n",
      "Iteration 200 : Loss 5694.4863\n",
      "Iteration 300 : Loss 5530.9552\n",
      "Iteration 400 : Loss 5379.6256\n",
      "Iteration 500 : Loss 5239.4943\n",
      "Iteration 600 : Loss 5109.6436\n",
      "Iteration 700 : Loss 4989.2335\n",
      "Iteration 800 : Loss 4877.4949\n",
      "Iteration 900 : Loss 4773.7242\n",
      "Iteration 1000 : Loss 4677.2771\n",
      "Iteration 1100 : Loss 4587.5636\n",
      "Iteration 1200 : Loss 4504.0437\n",
      "Iteration 1300 : Loss 4426.2225\n",
      "Iteration 1400 : Loss 4353.6472\n",
      "Iteration 1500 : Loss 4285.9027\n",
      "Iteration 1600 : Loss 4222.6086\n",
      "Iteration 1700 : Loss 4163.4167\n",
      "Iteration 1800 : Loss 4108.0075\n",
      "Iteration 1900 : Loss 4056.0884\n",
      "Iteration 2000 : Loss 4007.3911\n",
      "Iteration 2100 : Loss 3961.6694\n",
      "Iteration 2200 : Loss 3918.6976\n",
      "Iteration 2300 : Loss 3878.2687\n",
      "Iteration 2400 : Loss 3840.1928\n",
      "Iteration 2500 : Loss 3804.2953\n",
      "Iteration 2600 : Loss 3770.4163\n",
      "Iteration 2700 : Loss 3738.4086\n",
      "Iteration 2800 : Loss 3708.1373\n",
      "Iteration 2900 : Loss 3679.4782\n",
      "Iteration 3000 : Loss 3652.3173\n",
      "Iteration 3100 : Loss 3626.5497\n",
      "Iteration 3200 : Loss 3602.0789\n",
      "Iteration 3300 : Loss 3578.8161\n",
      "Iteration 3400 : Loss 3556.6796\n",
      "Iteration 3500 : Loss 3535.5941\n",
      "Iteration 3600 : Loss 3515.4904\n",
      "Iteration 3700 : Loss 3496.3044\n",
      "Iteration 3800 : Loss 3477.9774\n",
      "Iteration 3900 : Loss 3460.4547\n",
      "Iteration 4000 : Loss 3443.6864\n",
      "Iteration 4100 : Loss 3427.6259\n",
      "Iteration 4200 : Loss 3412.2305\n",
      "Iteration 4300 : Loss 3397.4606\n",
      "Iteration 4400 : Loss 3383.2794\n",
      "Iteration 4500 : Loss 3369.6530\n",
      "Iteration 4600 : Loss 3356.5500\n",
      "Iteration 4700 : Loss 3343.9411\n",
      "Iteration 4800 : Loss 3331.7994\n",
      "Iteration 4900 : Loss 3320.0997\n",
      "Iteration 5000 : Loss 3308.8187\n",
      "Iteration 5100 : Loss 3297.9347\n",
      "Iteration 5200 : Loss 3287.4274\n",
      "Iteration 5300 : Loss 3277.2781\n",
      "Iteration 5400 : Loss 3267.4691\n",
      "Iteration 5500 : Loss 3257.9842\n",
      "Iteration 5600 : Loss 3248.8079\n",
      "Iteration 5700 : Loss 3239.9262\n",
      "Iteration 5800 : Loss 3231.3254\n",
      "Iteration 5900 : Loss 3222.9932\n",
      "Iteration 6000 : Loss 3214.9178\n",
      "Iteration 6100 : Loss 3207.0882\n",
      "Iteration 6200 : Loss 3199.4940\n",
      "Iteration 6300 : Loss 3192.1255\n",
      "Iteration 6400 : Loss 3184.9735\n",
      "Iteration 6500 : Loss 3178.0294\n",
      "Iteration 6600 : Loss 3171.2851\n",
      "Iteration 6700 : Loss 3164.7328\n",
      "Iteration 6800 : Loss 3158.3654\n",
      "Iteration 6900 : Loss 3152.1760\n",
      "Iteration 7000 : Loss 3146.1580\n",
      "Iteration 7100 : Loss 3140.3053\n",
      "Iteration 7200 : Loss 3134.6120\n",
      "Iteration 7300 : Loss 3129.0727\n",
      "Iteration 7400 : Loss 3123.6819\n",
      "Iteration 7500 : Loss 3118.4347\n",
      "Iteration 7600 : Loss 3113.3264\n",
      "Iteration 7700 : Loss 3108.3522\n",
      "Iteration 7800 : Loss 3103.5080\n",
      "Iteration 7900 : Loss 3098.7895\n",
      "Iteration 8000 : Loss 3094.1928\n",
      "Iteration 8100 : Loss 3089.7140\n",
      "Iteration 8200 : Loss 3085.3496\n",
      "Iteration 8300 : Loss 3081.0960\n",
      "Iteration 8400 : Loss 3076.9499\n",
      "Iteration 8500 : Loss 3072.9081\n",
      "Iteration 8600 : Loss 3068.9675\n",
      "Iteration 8700 : Loss 3065.1251\n",
      "Iteration 8800 : Loss 3061.3781\n",
      "Iteration 8900 : Loss 3057.7238\n",
      "Iteration 9000 : Loss 3054.1595\n",
      "Iteration 9100 : Loss 3050.6827\n",
      "Iteration 9200 : Loss 3047.2909\n",
      "Iteration 9300 : Loss 3043.9818\n",
      "Iteration 9400 : Loss 3040.7530\n",
      "Iteration 9500 : Loss 3037.6025\n",
      "Iteration 9600 : Loss 3034.5279\n",
      "Iteration 9700 : Loss 3031.5274\n",
      "Iteration 9800 : Loss 3028.5989\n",
      "Iteration 9900 : Loss 3025.7404\n",
      "Iteration 10000 : Loss 3022.9502\n"
     ]
    }
   ],
   "source": [
    "# 가중치와 절편 초기화\n",
    "W = np.random.randn(X_train.shape[1])\n",
    "b = 0.0\n",
    "\n",
    "losses = []\n",
    "MAX_ITER = 10000\n",
    "\n",
    "for i in range(1, MAX_ITER + 1):\n",
    "    dW, db = gradient(X_train, W, b, y_train)\n",
    "    W -= LEARNING_RATE * dW\n",
    "    b -= LEARNING_RATE * db\n",
    "    L = loss(X_train, W, b, y_train)\n",
    "    losses.append(L)\n",
    "\n",
    "    # iteration마다 loss값 확인하기\n",
    "    if i % 100 == 0:\n",
    "        print('Iteration %d : Loss %.4f' % (i, L))\n"
   ]
  },
  {
   "cell_type": "markdown",
   "id": "3d6b6777-475e-4da5-96b8-e2c077b6cda0",
   "metadata": {},
   "source": [
    "```markdown\n",
    "# (10) test 데이터에 대한 성능 확인하기\n",
    "\n",
    "테스트 데이터를 사용하여 모델의 성능을 평가합니다.\n",
    "```"
   ]
  },
  {
   "cell_type": "code",
   "execution_count": 45,
   "id": "12d2d3e9-932b-4393-bc6f-ed113a5f400f",
   "metadata": {},
   "outputs": [
    {
     "name": "stdout",
     "output_type": "stream",
     "text": [
      "Test Loss:  2881.96748078836\n"
     ]
    }
   ],
   "source": [
    "prediction = model(X_test, W, b)\n",
    "test_loss = loss(X_test, W, b, y_test)\n",
    "\n",
    "print(\"Test Loss: \", test_loss)"
   ]
  },
  {
   "cell_type": "markdown",
   "id": "cea805db-9a53-4fc8-975c-b0ab7ce21e39",
   "metadata": {},
   "source": [
    "```markdown\n",
    "# (11) 결과 시각화하기\n",
    "\n",
    "학습 과정에서의 손실 값을 그래프로 시각화합니다.\n",
    "\n",
    "\n",
    " - 실제값과 예측값을 그래프로 시각화\n",
    "```"
   ]
  },
  {
   "cell_type": "code",
   "execution_count": 43,
   "id": "9d39d434-5421-4777-80b0-c5c72760bd11",
   "metadata": {},
   "outputs": [
    {
     "data": {
      "image/png": "[encoded data removed]",
      "text/plain": [
       "<Figure size 1200x600 with 1 Axes>"
      ]
     },
     "metadata": {},
     "output_type": "display_data"
    }
   ],
   "source": [
    "plt.figure(figsize=(12, 6))\n",
    "\n",
    "plt.scatter(X_test[:, 0], y_test, label=\"y_test\", color='blue', alpha=0.5)\n",
    "plt.scatter(X_test[:, 0], prediction, label=\"prediction\", color='red', alpha=0.5)\n",
    "\n",
    "plt.xlabel(\"Feature 1\")\n",
    "plt.ylabel(\"Target Value\")\n",
    "plt.title(\"Diabetes Prediction vs Actual\")\n",
    "plt.legend()\n",
    "plt.grid(True)\n",
    "plt.show()\n"
   ]
  },
  {
   "cell_type": "markdown",
   "id": "da7b4128-4e32-479e-aa2a-46256a0d4027",
   "metadata": {},
   "source": [
    "```markdown\n",
    " - 손실 함수의 변화 그래프로 시각화\n",
    "```"
   ]
  },
  {
   "cell_type": "code",
   "execution_count": 44,
   "id": "b7edec2f-4536-44a0-af43-b0302d85cf45",
   "metadata": {},
   "outputs": [
    {
     "data": {
      "image/png": "[encoded data removed]",
      "text/plain": [
       "<Figure size 1200x600 with 1 Axes>"
      ]
     },
     "metadata": {},
     "output_type": "display_data"
    }
   ],
   "source": [
    "plt.figure(figsize=(12, 6))\n",
    "plt.plot(losses, label='Training Loss', color='green')\n",
    "plt.xlabel('Iterations')\n",
    "plt.ylabel('Loss')\n",
    "plt.title('Loss over Iterations')\n",
    "plt.legend()\n",
    "plt.grid(True)\n",
    "plt.show()"
   ]
  }
 ],
 "metadata": {
  "kernelspec": {
   "display_name": "Python 3 (ipykernel)",
   "language": "python",
   "name": "python3"
  },
  "language_info": {
   "codemirror_mode": {
    "name": "ipython",
    "version": 3
   },
   "file_extension": ".py",
   "mimetype": "text/x-python",
   "name": "python",
   "nbconvert_exporter": "python",
   "pygments_lexer": "ipython3",
   "version": "3.9.18"
  }
 },
 "nbformat": 4,
 "nbformat_minor": 5
}
